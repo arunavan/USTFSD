{
 "cells": [
  {
   "cell_type": "markdown",
   "id": "ad2c89f3-8f29-4781-a85c-19fc516a9829",
   "metadata": {},
   "source": [
    "### Biggest of Three Numbers"
   ]
  },
  {
   "cell_type": "code",
   "execution_count": 1,
   "id": "2ae1d9d9-ab1f-48b9-902e-ee3f8209f2b3",
   "metadata": {},
   "outputs": [
    {
     "name": "stdin",
     "output_type": "stream",
     "text": [
      "Enter first number:  20\n",
      "Enter second number:  30\n",
      "Enter third number:  50\n"
     ]
    },
    {
     "name": "stdout",
     "output_type": "stream",
     "text": [
      "The biggest of the three numbers is: 50.0\n"
     ]
    }
   ],
   "source": [
    "num1 = float(input(\"Enter first number: \"))\n",
    "num2 = float(input(\"Enter second number: \"))\n",
    "num3 = float(input(\"Enter third number: \"))\n",
    "\n",
    "biggest = max(num1, num2, num3)\n",
    "\n",
    "print(\"The biggest of the three numbers is:\", biggest)"
   ]
  },
  {
   "cell_type": "code",
   "execution_count": 2,
   "id": "e767b75a-5bde-44df-bdb4-fe956e77d49e",
   "metadata": {},
   "outputs": [
    {
     "name": "stdin",
     "output_type": "stream",
     "text": [
      "Enter first number:  20\n",
      "Enter second number:  30\n",
      "Enter third number:  50\n"
     ]
    },
    {
     "name": "stdout",
     "output_type": "stream",
     "text": [
      "The biggest of the three numbers is: 50.0\n"
     ]
    }
   ],
   "source": [
    "num1 = float(input(\"Enter first number: \"))\n",
    "num2 = float(input(\"Enter second number: \"))\n",
    "num3 = float(input(\"Enter third number: \"))\n",
    "\n",
    "if num1 > num2 and num1 > num3:\n",
    "    print(\"The biggest of the three numbers is:\", num1)\n",
    "elif num2 > num1 and num2 > num3:\n",
    "    print(\"The biggest of the three numbers is:\", num2)    \n",
    "else:\n",
    "    print(\"The biggest of the three numbers is:\", num3)"
   ]
  },
  {
   "cell_type": "markdown",
   "id": "61963296-62bb-4594-9bdd-2eef7c9a424f",
   "metadata": {},
   "source": [
    "---"
   ]
  },
  {
   "cell_type": "markdown",
   "id": "4284490f-7498-4536-8bff-9e6891f3f589",
   "metadata": {},
   "source": [
    "### Display Day Name Using Switch Case"
   ]
  },
  {
   "cell_type": "code",
   "execution_count": 3,
   "id": "a19e3be6-6dd5-4017-97be-d5f7eb35c9df",
   "metadata": {},
   "outputs": [
    {
     "name": "stdin",
     "output_type": "stream",
     "text": [
      "Enter day number (1-7):  4\n"
     ]
    },
    {
     "name": "stdout",
     "output_type": "stream",
     "text": [
      "The day is: Wednesday\n"
     ]
    }
   ],
   "source": [
    "# Python doesn't have a switch case, but we can use a dictionary.\n",
    "\n",
    "day_number = int(input(\"Enter day number (1-7): \"))\n",
    "\n",
    "# Mapping day numbers to day names\n",
    "days = {\n",
    "    1: \"Sunday\",\n",
    "    2: \"Monday\",\n",
    "    3: \"Tuesday\",\n",
    "    4: \"Wednesday\",\n",
    "    5: \"Thursday\",\n",
    "    6: \"Friday\",\n",
    "    7: \"Saturday\"\n",
    "}\n",
    "\n",
    "print(\"The day is:\", days.get(day_number, \"Invalid day number\"))"
   ]
  },
  {
   "cell_type": "markdown",
   "id": "16810303-cf06-4d36-bd93-6c8ebeea4962",
   "metadata": {},
   "source": [
    "---"
   ]
  },
  {
   "cell_type": "markdown",
   "id": "e631584e-a41d-4833-813b-6986ce67e6fb",
   "metadata": {},
   "source": [
    "### Palindrome"
   ]
  },
  {
   "cell_type": "code",
   "execution_count": 4,
   "id": "693aa2c3-9a85-461d-b1f1-c7a0d562bbcc",
   "metadata": {},
   "outputs": [
    {
     "name": "stdin",
     "output_type": "stream",
     "text": [
      "Enter a number:  213312\n"
     ]
    },
    {
     "name": "stdout",
     "output_type": "stream",
     "text": [
      "The number is a palindrome.\n"
     ]
    }
   ],
   "source": [
    "num = input(\"Enter a number: \")\n",
    "\n",
    "if num == num[::-1]:\n",
    "    print(\"The number is a palindrome.\")\n",
    "else:\n",
    "    print(\"The number is not a palindrome.\")"
   ]
  },
  {
   "cell_type": "markdown",
   "id": "232b854f-aa01-42b2-b553-808a5046e0ae",
   "metadata": {},
   "source": [
    "---"
   ]
  },
  {
   "cell_type": "markdown",
   "id": "11144082-2e7b-4166-8173-20f019bf0eeb",
   "metadata": {},
   "source": [
    "### Sum of Even Numbers from 1 to 100"
   ]
  },
  {
   "cell_type": "code",
   "execution_count": 5,
   "id": "b45894af-a630-4cf8-a985-33b21075160f",
   "metadata": {},
   "outputs": [
    {
     "name": "stdout",
     "output_type": "stream",
     "text": [
      "The sum of even numbers from 1 to 100 is: 2550\n"
     ]
    }
   ],
   "source": [
    "sum_even = sum([i for i in range(1, 101) if i % 2 == 0])\n",
    "\n",
    "print(\"The sum of even numbers from 1 to 100 is:\", sum_even)"
   ]
  },
  {
   "cell_type": "markdown",
   "id": "b5baa8f6-15bc-44bf-9ce5-f40a4f2744b9",
   "metadata": {},
   "source": [
    "---"
   ]
  },
  {
   "cell_type": "markdown",
   "id": "0dd8e501-7600-4bd3-986f-ecc456763d9e",
   "metadata": {},
   "source": [
    "### Multiplication Table of a Given Number"
   ]
  },
  {
   "cell_type": "code",
   "execution_count": 6,
   "id": "9cee7aa3-967b-4de5-9ab8-11e2fae9e404",
   "metadata": {},
   "outputs": [
    {
     "name": "stdin",
     "output_type": "stream",
     "text": [
      "Enter a number:  4\n"
     ]
    },
    {
     "name": "stdout",
     "output_type": "stream",
     "text": [
      "4 x 1 = 4\n",
      "4 x 2 = 8\n",
      "4 x 3 = 12\n",
      "4 x 4 = 16\n",
      "4 x 5 = 20\n",
      "4 x 6 = 24\n",
      "4 x 7 = 28\n",
      "4 x 8 = 32\n",
      "4 x 9 = 36\n",
      "4 x 10 = 40\n"
     ]
    }
   ],
   "source": [
    "num = int(input(\"Enter a number: \"))\n",
    "\n",
    "for i in range(1, 11):\n",
    "    print(f\"{num} x {i} = {num * i}\")\n"
   ]
  },
  {
   "cell_type": "markdown",
   "id": "9761b487-21d3-446f-aa02-d6717d8badfa",
   "metadata": {},
   "source": [
    "---"
   ]
  },
  {
   "cell_type": "markdown",
   "id": "4171e594-ee60-41f1-a363-a8b56a133cdb",
   "metadata": {},
   "source": [
    "### Prime Numbers from 1 to 100"
   ]
  },
  {
   "cell_type": "code",
   "execution_count": 7,
   "id": "584bdc11-7329-4e87-bb1d-a280efaa2a07",
   "metadata": {},
   "outputs": [
    {
     "name": "stdout",
     "output_type": "stream",
     "text": [
      "Prime numbers from 1 to 100 are: [2, 3, 5, 7, 11, 13, 17, 19, 23, 29, 31, 37, 41, 43, 47, 53, 59, 61, 67, 71, 73, 79, 83, 89, 97]\n"
     ]
    }
   ],
   "source": [
    "def is_prime(n):\n",
    "    if n <= 1:\n",
    "        return False\n",
    "    for i in range(2, int(n**0.5) + 1):\n",
    "        if n % i == 0:\n",
    "            return False\n",
    "    return True\n",
    "    \n",
    "primes = [i for i in range(1, 101) if is_prime(i)]\n",
    "print(\"Prime numbers from 1 to 100 are:\", primes)"
   ]
  },
  {
   "cell_type": "markdown",
   "id": "ec9dd251-ddaf-482e-9e91-91b136f9f1a1",
   "metadata": {},
   "source": [
    "---"
   ]
  },
  {
   "cell_type": "markdown",
   "id": "528f5745-77ab-46e6-8beb-a5575f4ccd6b",
   "metadata": {},
   "source": [
    "### Biggest, Smallest, Second Biggest, Second Smallest from Array"
   ]
  },
  {
   "cell_type": "code",
   "execution_count": 8,
   "id": "34809465-0220-4f26-a479-a50caf09d24c",
   "metadata": {},
   "outputs": [
    {
     "name": "stdin",
     "output_type": "stream",
     "text": [
      "Enter integer 1:  20\n",
      "Enter integer 2:  43\n",
      "Enter integer 3:  12\n",
      "Enter integer 4:  54\n",
      "Enter integer 5:  122\n",
      "Enter integer 6:  87\n",
      "Enter integer 7:  98\n",
      "Enter integer 8:  45\n",
      "Enter integer 9:  331\n",
      "Enter integer 10:  21\n"
     ]
    },
    {
     "name": "stdout",
     "output_type": "stream",
     "text": [
      "Biggest: 331\n",
      "Smallest: 12\n",
      "Second Biggest: 122\n",
      "Second Smallest: 20\n"
     ]
    }
   ],
   "source": [
    "arr = [int(input(f\"Enter integer {i+1}: \")) for i in range(10)]\n",
    "\n",
    "arr_sorted = sorted(arr)\n",
    "biggest = arr_sorted[-1]\n",
    "smallest = arr_sorted[0]\n",
    "second_biggest = arr_sorted[-2]\n",
    "second_smallest = arr_sorted[1]\n",
    "\n",
    "print(\"Biggest:\", biggest)\n",
    "print(\"Smallest:\", smallest)\n",
    "print(\"Second Biggest:\", second_biggest)\n",
    "print(\"Second Smallest:\", second_smallest)"
   ]
  },
  {
   "cell_type": "markdown",
   "id": "a41f7fdf-cd9c-43cf-bbc3-cc59da4ca6a6",
   "metadata": {},
   "source": [
    "---"
   ]
  },
  {
   "cell_type": "markdown",
   "id": "1351b001-f707-4248-b567-d32284f74207",
   "metadata": {},
   "source": [
    "### Search for a Given Element in Array of 10 Integers"
   ]
  },
  {
   "cell_type": "code",
   "execution_count": 9,
   "id": "fda9e30d-e75c-4415-8b5f-721c34dc0b74",
   "metadata": {},
   "outputs": [
    {
     "name": "stdin",
     "output_type": "stream",
     "text": [
      "Enter integer 1:  67\n",
      "Enter integer 2:  45\n",
      "Enter integer 3:  90\n",
      "Enter integer 4:  32\n",
      "Enter integer 5:  78\n",
      "Enter integer 6:  11\n",
      "Enter integer 7:  15\n",
      "Enter integer 8:  93\n",
      "Enter integer 9:  54\n",
      "Enter integer 10:  66\n",
      "Enter element to search for:  90\n"
     ]
    },
    {
     "name": "stdout",
     "output_type": "stream",
     "text": [
      "90 is present in the array.\n"
     ]
    }
   ],
   "source": [
    "arr = [int(input(f\"Enter integer {i+1}: \")) for i in range(10)]\n",
    "\n",
    "element = int(input(\"Enter element to search for: \"))\n",
    "\n",
    "if element in arr:\n",
    "    print(f\"{element} is present in the array.\")\n",
    "else:\n",
    "    print(f\"{element} is not present in the array.\")"
   ]
  },
  {
   "cell_type": "markdown",
   "id": "d28d4c8c-9afb-45d2-8a75-dcbfd7d32040",
   "metadata": {},
   "source": [
    "---"
   ]
  },
  {
   "cell_type": "markdown",
   "id": "fc3942f6-d6aa-495a-89c6-863eabea93ef",
   "metadata": {},
   "source": [
    "### Sum of Two 3x3 Matrices"
   ]
  },
  {
   "cell_type": "code",
   "execution_count": 10,
   "id": "856d6f04-eabd-4e8f-b2fa-383c316ae336",
   "metadata": {},
   "outputs": [
    {
     "name": "stdin",
     "output_type": "stream",
     "text": [
      "Enter element [1,1] for Matrix 1:  1\n",
      "Enter element [1,2] for Matrix 1:  2\n",
      "Enter element [1,3] for Matrix 1:  3\n",
      "Enter element [2,1] for Matrix 1:  4\n",
      "Enter element [2,2] for Matrix 1:  4\n",
      "Enter element [2,3] for Matrix 1:  3\n",
      "Enter element [3,1] for Matrix 1:  2\n",
      "Enter element [3,2] for Matrix 1:  1\n",
      "Enter element [3,3] for Matrix 1:  5\n",
      "Enter element [1,1] for Matrix 2:  6\n",
      "Enter element [1,2] for Matrix 2:  7\n",
      "Enter element [1,3] for Matrix 2:  8\n",
      "Enter element [2,1] for Matrix 2:  8\n",
      "Enter element [2,2] for Matrix 2:  7\n",
      "Enter element [2,3] for Matrix 2:  6\n",
      "Enter element [3,1] for Matrix 2:  5\n",
      "Enter element [3,2] for Matrix 2:  4\n",
      "Enter element [3,3] for Matrix 2:  3\n"
     ]
    },
    {
     "name": "stdout",
     "output_type": "stream",
     "text": [
      "Sum of the matrices:\n",
      "[7, 9, 11]\n",
      "[12, 11, 9]\n",
      "[7, 5, 8]\n"
     ]
    }
   ],
   "source": [
    "matrix1 = [[int(input(f\"Enter element [{i+1},{j+1}] for Matrix 1: \")) for j in range(3)] for i in range(3)]\n",
    "matrix2 = [[int(input(f\"Enter element [{i+1},{j+1}] for Matrix 2: \")) for j in range(3)] for i in range(3)]\n",
    "\n",
    "result = [[matrix1[i][j] + matrix2[i][j] for j in range(3)] for i in range(3)]\n",
    "\n",
    "print(\"Sum of the matrices:\")\n",
    "for row in result:\n",
    "    print(row)"
   ]
  },
  {
   "cell_type": "code",
   "execution_count": null,
   "id": "9a323eb9-b39d-4cc8-ba0b-a41a6855ee0b",
   "metadata": {},
   "outputs": [],
   "source": []
  }
 ],
 "metadata": {
  "kernelspec": {
   "display_name": "Python 3 (ipykernel)",
   "language": "python",
   "name": "python3"
  },
  "language_info": {
   "codemirror_mode": {
    "name": "ipython",
    "version": 3
   },
   "file_extension": ".py",
   "mimetype": "text/x-python",
   "name": "python",
   "nbconvert_exporter": "python",
   "pygments_lexer": "ipython3",
   "version": "3.10.11"
  }
 },
 "nbformat": 4,
 "nbformat_minor": 5
}
